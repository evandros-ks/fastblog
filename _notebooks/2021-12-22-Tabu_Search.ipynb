{
 "cells": [
  {
   "cell_type": "markdown",
   "id": "fe935984",
   "metadata": {},
   "source": [
    "# Tabu Search\n",
    "\n",
    "> A meta-heuristic algorithm leveraging local search and memory structures. \n",
    "- toc: true\n",
    "- use_math: true\n",
    "- comments: true\n",
    "- use_plotly: true"
   ]
  },
  {
   "cell_type": "code",
   "execution_count": null,
   "id": "52dc2f79",
   "metadata": {},
   "outputs": [],
   "source": []
  }
 ],
 "metadata": {
  "kernelspec": {
   "display_name": "Python 3 (ipykernel)",
   "language": "python",
   "name": "python3"
  },
  "language_info": {
   "codemirror_mode": {
    "name": "ipython",
    "version": 3
   },
   "file_extension": ".py",
   "mimetype": "text/x-python",
   "name": "python",
   "nbconvert_exporter": "python",
   "pygments_lexer": "ipython3",
   "version": "3.8.10"
  }
 },
 "nbformat": 4,
 "nbformat_minor": 5
}
