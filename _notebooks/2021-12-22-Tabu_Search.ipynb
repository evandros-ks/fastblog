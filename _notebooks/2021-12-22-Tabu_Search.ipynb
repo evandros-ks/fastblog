{
 "cells": [
  {
   "cell_type": "markdown",
   "id": "fe935984",
   "metadata": {},
   "source": [
    "# Tabu Search\n",
    "\n",
    "> A meta-heuristic algorithm leveraging local search and memory structures. \n",
    "- toc: true\n",
    "- use_math: true\n",
    "- comments: true\n",
    "- use_plotly: true\n",
    "- image: images/local_search.png"
   ]
  },
  {
   "cell_type": "markdown",
   "id": "6de2190b",
   "metadata": {},
   "source": [
    "# Background"
   ]
  },
  {
   "cell_type": "markdown",
   "id": "df9f3c48",
   "metadata": {},
   "source": [
    "# Tabu Search"
   ]
  },
  {
   "cell_type": "markdown",
   "id": "a5898f79",
   "metadata": {},
   "source": [
    "Tabu Search is a meta-heuristic optimization algorithm leveraging **local search strategies** and **memory structures**. Since local search has the tendency to get stuck in local optima, it uses memory structures to help escape these optima by using an explorative strategy and avoiding previously visited nodes. The idea of prohibiting previously visited nodes is there name tabu comes from.  "
   ]
  },
  {
   "cell_type": "markdown",
   "id": "e29664d5",
   "metadata": {},
   "source": [
    "## Local Search"
   ]
  },
  {
   "cell_type": "markdown",
   "id": "959f5d26",
   "metadata": {},
   "source": [
    "The first main concept we'll go over is the idea of Local Search. In Local Search, we start with an initial viable solution and generate a set of neighbouring solutions. We then iterate through each solution of the set and continue the next iteration with the best neighbouring solution. We continue this algorithm until our termination criteria is met."
   ]
  },
  {
   "cell_type": "code",
   "execution_count": 2,
   "id": "0d813d02",
   "metadata": {},
   "outputs": [],
   "source": [
    "def generate_first_solution():\n",
    "    pass\n",
    "\n",
    "def generate_neighbourhood():\n",
    "    pass\n",
    "\n",
    "def objective_function():\n",
    "    pass\n",
    "\n",
    "def check_termination_criteria():\n",
    "    pass\n",
    "\n",
    "initial_solution = generate_first_solution()\n",
    "current_solution = initial_solution\n",
    "\n",
    "termination_criteria = False\n",
    "\n",
    "\n",
    "while not termination_criteria:\n",
    "    best_objective_fn = objective_function(current_solution)\n",
    "    neighbours = generate_neighbourhood(current_solution)\n",
    "    \n",
    "    for n in neighbours:\n",
    "        current_objective_fn = objective_function(n)\n",
    "        \n",
    "        if n < best_objective_fn:\n",
    "            best_objective_fn = current_objective_fn\n",
    "            current_solution = n\n",
    "            \n",
    "    if check_termination_criteria():\n",
    "        termination_criteria = True"
   ]
  },
  {
   "cell_type": "markdown",
   "id": "e190119b",
   "metadata": {},
   "source": [
    "Although this approach is quite straightforward and quick to implement, it comes with its pitfalls. "
   ]
  },
  {
   "cell_type": "markdown",
   "id": "20726ad2",
   "metadata": {},
   "source": [
    "## Memory"
   ]
  },
  {
   "cell_type": "markdown",
   "id": "00635a31",
   "metadata": {},
   "source": [
    "## Neighbourhood"
   ]
  },
  {
   "cell_type": "markdown",
   "id": "511b84b5",
   "metadata": {},
   "source": []
  },
  {
   "cell_type": "markdown",
   "id": "a775f349",
   "metadata": {},
   "source": []
  },
  {
   "cell_type": "markdown",
   "id": "cae33410",
   "metadata": {},
   "source": []
  }
 ],
 "metadata": {
  "kernelspec": {
   "display_name": "Python 3 (ipykernel)",
   "language": "python",
   "name": "python3"
  },
  "language_info": {
   "codemirror_mode": {
    "name": "ipython",
    "version": 3
   },
   "file_extension": ".py",
   "mimetype": "text/x-python",
   "name": "python",
   "nbconvert_exporter": "python",
   "pygments_lexer": "ipython3",
   "version": "3.8.10"
  }
 },
 "nbformat": 4,
 "nbformat_minor": 5
}
