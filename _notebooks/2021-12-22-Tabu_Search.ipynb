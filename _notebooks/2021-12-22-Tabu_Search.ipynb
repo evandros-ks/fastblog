{
 "cells": [
  {
   "cell_type": "markdown",
   "id": "fe935984",
   "metadata": {},
   "source": [
    "# Tabu Search\n",
    "\n",
    "> A meta-heuristic algorithm leveraging local search and memory structures. \n",
    "- toc: true\n",
    "- use_math: true\n",
    "- comments: true\n",
    "- use_plotly: true\n",
    "- image: images/local_search.png"
   ]
  },
  {
   "cell_type": "markdown",
   "id": "6de2190b",
   "metadata": {},
   "source": [
    "# Background"
   ]
  },
  {
   "cell_type": "markdown",
   "id": "df9f3c48",
   "metadata": {},
   "source": [
    "# Tabu Search"
   ]
  },
  {
   "cell_type": "markdown",
   "id": "a5898f79",
   "metadata": {},
   "source": [
    "Tabu Search is a meta-heuristic optimization algorithm leveraging **local search strategies** and **memory structures**. Since local search has the tendency to get stuck in local optima, it uses memory structures to help escape these optima by using an explorative strategy and avoiding previously visited nodes. The idea of prohibiting previously visited nodes is there name tabu comes from.  "
   ]
  },
  {
   "cell_type": "markdown",
   "id": "e29664d5",
   "metadata": {},
   "source": [
    "## Local Search"
   ]
  },
  {
   "cell_type": "markdown",
   "id": "959f5d26",
   "metadata": {},
   "source": [
    "The first main concept we'll go over is the idea of Local Search. In Local Search, we start with an initial viable solution and generate a set of neighbouring solutions. We then iterate through each solution of the set and continue the next iteration with the best neighbouring solution. We continue this algorithm until our termination criteria is met."
   ]
  },
  {
   "cell_type": "code",
   "execution_count": 2,
   "id": "327341c1",
   "metadata": {},
   "outputs": [],
   "source": [
    "def generate_first_solution():\n",
    "    pass\n",
    "\n",
    "def generate_neighbourhood():\n",
    "    pass\n",
    "\n",
    "def objective_function():\n",
    "    pass\n",
    "\n",
    "def check_termination_criteria():\n",
    "    pass\n",
    "\n",
    "initial_solution = generate_first_solution()\n",
    "current_solution = initial_solution\n",
    "\n",
    "termination_criteria = False\n",
    "\n",
    "\n",
    "while not termination_criteria:\n",
    "    # initialize best neighbouring objective value and generate neighbours\n",
    "    best_n_objective_fn = objective_function(current_solution)\n",
    "    neighbours = generate_neighbourhood(current_solution)\n",
    "    \n",
    "    # iterate each neighbour\n",
    "    for n in neighbours:\n",
    "        current_objective_fn = objective_function(n)\n",
    "        \n",
    "        # find the best neighbour objective value to use for the next iteration\n",
    "        # we're assuming we want to minimize the objective value in this scenario\n",
    "        if n < best_n_objective_fn:\n",
    "            best_n_objective_fn = current_objective_fn\n",
    "            current_solution = n\n",
    "            \n",
    "    # check if termination criteria has been met yet\n",
    "    if check_termination_criteria():\n",
    "        termination_criteria = True"
   ]
  },
  {
   "cell_type": "markdown",
   "id": "328a7d03",
   "metadata": {},
   "source": [
    "Although this approach is quite straightforward and quick to implement, it comes with its pitfalls. In some cases, it becomes computationally expensive to search all the possible neighbours of the current solution. On the other hand, considering only the immediate neighbours yields a very limited horizon and is also not efficient. This makes our algorithm susceptible to being stuck in local optima based on our neighbourhood generation."
   ]
  },
  {
   "cell_type": "code",
   "execution_count": 8,
   "id": "bbea6786",
   "metadata": {},
   "outputs": [
    {
     "data": {
      "image/png": "[encoded data removed]",
      "text/plain": [
       "<IPython.core.display.Image object>"
      ]
     },
     "execution_count": 8,
     "metadata": {},
     "output_type": "execute_result"
    }
   ],
   "source": [
    "#hide_input\n",
    "from IPython.display import Image\n",
    "Image(filename='../assets/blogs/2021_12_22/local_search.png')"
   ]
  },
  {
   "cell_type": "markdown",
   "id": "20726ad2",
   "metadata": {},
   "source": [
    "## Memory"
   ]
  },
  {
   "cell_type": "markdown",
   "id": "b7fa8682",
   "metadata": {},
   "source": [
    "In order to avoid the pitfall of local optima, Tabu Search incorporates two different memory structures. Short-term memory is based on the recency of occurrence to avoid previously visited solutions. This short-term structure could also be used to tabulate viable solutions and *intensify* the search at these solutions. Long-term memory is based on the frequency of occurrence starting from the beginning of the optimization. By keeping track of frequently visited solutions, it can diversify the search space by avoiding frequently visited solutions.\n",
    "\n",
    "The short-term memory component is formerly known as the Tabu List. This structure stores a fixed and limited number of solutions for a number of iterations (T also known as the Tabu Tenure). "
   ]
  },
  {
   "cell_type": "markdown",
   "id": "00635a31",
   "metadata": {},
   "source": [
    "## Neighbourhood"
   ]
  },
  {
   "cell_type": "markdown",
   "id": "511b84b5",
   "metadata": {},
   "source": []
  },
  {
   "cell_type": "markdown",
   "id": "a775f349",
   "metadata": {},
   "source": []
  },
  {
   "cell_type": "markdown",
   "id": "cae33410",
   "metadata": {},
   "source": []
  }
 ],
 "metadata": {
  "kernelspec": {
   "display_name": "Python 3 (ipykernel)",
   "language": "python",
   "name": "python3"
  },
  "language_info": {
   "codemirror_mode": {
    "name": "ipython",
    "version": 3
   },
   "file_extension": ".py",
   "mimetype": "text/x-python",
   "name": "python",
   "nbconvert_exporter": "python",
   "pygments_lexer": "ipython3",
   "version": "3.8.10"
  }
 },
 "nbformat": 4,
 "nbformat_minor": 5
}
