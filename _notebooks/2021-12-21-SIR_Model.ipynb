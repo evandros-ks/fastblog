{
 "cells": [
  {
   "cell_type": "markdown",
   "id": "f3e7d61c",
   "metadata": {},
   "source": [
    "# SIR Model of Infectious Diseases"
   ]
  },
  {
   "cell_type": "markdown",
   "id": "151c466c",
   "metadata": {},
   "source": [
    "An introduction to compartmental models in epidemiology and how to simulate disease dynamics in a population. "
   ]
  },
  {
   "cell_type": "markdown",
   "id": "8c03dcfc",
   "metadata": {},
   "source": [
    "# Background"
   ]
  },
  {
   "cell_type": "markdown",
   "id": "a0309fc5",
   "metadata": {},
   "source": [
    "Epidemiological models are a type of compartmental model describing disease dynamics on a population. In the case of infectious diseases, we model how the virus/disease interacts with each compartment of the system. Each *compartment* in this model is represented as a homogeneous system - or an individual within a population where each individual is equivalent. Different epidemiological models consider different compartments with the most common being the SIR model. The compartments in this model are categorized within the population as susceptible **(S)**, infected **(I)**, or recovered **(R)**.  \n"
   ]
  },
  {
   "cell_type": "code",
   "execution_count": null,
   "id": "4859579f",
   "metadata": {},
   "outputs": [],
   "source": [
    "# Epidemiological modeling is important to assess how infectious diseases may spread within a population. These models take into account several disease characteristics such as transmission rate, recovery rate, and mortality rate. These parameters can describe the effect of the disease on the population with respect to susceptible, infectious, and recovered individuals. More complex models take into additional traits such as infected detected, infected undetected, extinct, and vaccinated individuals, also known as the SIDAREV model."
   ]
  },
  {
   "cell_type": "code",
   "execution_count": null,
   "id": "3b69ff7e",
   "metadata": {},
   "outputs": [],
   "source": []
  }
 ],
 "metadata": {
  "kernelspec": {
   "display_name": "Python 3 (ipykernel)",
   "language": "python",
   "name": "python3"
  },
  "language_info": {
   "codemirror_mode": {
    "name": "ipython",
    "version": 3
   },
   "file_extension": ".py",
   "mimetype": "text/x-python",
   "name": "python",
   "nbconvert_exporter": "python",
   "pygments_lexer": "ipython3",
   "version": "3.8.10"
  },
  "toc": {
   "base_numbering": 1,
   "nav_menu": {},
   "number_sections": false,
   "sideBar": true,
   "skip_h1_title": false,
   "title_cell": "Table of Contents",
   "title_sidebar": "Contents",
   "toc_cell": true,
   "toc_position": {},
   "toc_section_display": true,
   "toc_window_display": true
  }
 },
 "nbformat": 4,
 "nbformat_minor": 5
}
