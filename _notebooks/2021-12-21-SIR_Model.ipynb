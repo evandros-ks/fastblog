{
 "cells": [
  {
   "cell_type": "markdown",
   "id": "f3e7d61c",
   "metadata": {},
   "source": [
    "# SIR Model of Infectious Diseases\n",
    "\n",
    "> An introduction to compartmental models in epidemiology and how to simulate disease dynamics in a population. \n",
    "- toc: true\n",
    "- comments: true\n",
    "- use_plotly: true"
   ]
  },
  {
   "cell_type": "markdown",
   "id": "cdbd9d68",
   "metadata": {},
   "source": [
    "# Background"
   ]
  },
  {
   "cell_type": "markdown",
   "id": "ac859dd1",
   "metadata": {},
   "source": [
    "Epidemiological models are a type of compartmental model describing disease dynamics on a population. In the case of infectious diseases, we model how the virus/disease interacts with each compartment of the system. Each *compartment* in this model is represented as a homogeneous system - or an individual within a population where each individual is equivalent. Different epidemiological models consider different compartments with the most common being the SIR model. The compartments in this model are categorized within the population as:\n",
    "- **(S)**usceptible\n",
    "- **(I)**nfected\n",
    "- **(R)**ecovered \n"
   ]
  },
  {
   "cell_type": "markdown",
   "id": "8083b4d0",
   "metadata": {},
   "source": [
    "# SIR Model"
   ]
  },
  {
   "cell_type": "markdown",
   "id": "c5b1f122",
   "metadata": {},
   "source": []
  },
  {
   "cell_type": "code",
   "execution_count": null,
   "id": "72731f1c",
   "metadata": {},
   "outputs": [],
   "source": [
    "# Epidemiological modeling is important to assess how infectious diseases may spread within a population. These models take into account several disease characteristics such as transmission rate, recovery rate, and mortality rate. These parameters can describe the effect of the disease on the population with respect to susceptible, infectious, and recovered individuals. More complex models take into additional traits such as infected detected, infected undetected, extinct, and vaccinated individuals, also known as the SIDAREV model."
   ]
  },
  {
   "cell_type": "code",
   "execution_count": 1,
   "id": "6a30524d",
   "metadata": {},
   "outputs": [],
   "source": [
    "import numpy as np\n",
    "import matplotlib.pyplot as plt"
   ]
  },
  {
   "cell_type": "code",
   "execution_count": 2,
   "id": "7acf8fdf",
   "metadata": {},
   "outputs": [],
   "source": [
    "# transmission rate (1/days)\n",
    "beta = 0.00035\n",
    "\n",
    "# recovery rate (1/days)\n",
    "gamma = 0.1\n",
    "\n",
    "# Population\n",
    "N = 500 \n",
    "\n",
    "# Number of days to simulate (starting at t=0)\n",
    "days = 3 + 1\n",
    "\n",
    "# Initial number of infected and recovered\n",
    "I, R = np.zeros(days), np.zeros(days)\n",
    "I[0], R[0] = 1, 0\n",
    "\n",
    "\n",
    "# Initial number of susceptible\n",
    "S = np.zeros(days)\n",
    "S[0] = N - I[0] - R[0]\n",
    "\n",
    "for t in range(days-1):\n",
    "    R[t+1] = R[t] + gamma * I[t]\n",
    "    I[t+1] = I[t] - gamma * I[t] + beta * I[t] * S[t]\n",
    "    S[t+1] = N - I[t+1] - R[t+1]"
   ]
  },
  {
   "cell_type": "code",
   "execution_count": 3,
   "id": "89264b2d",
   "metadata": {},
   "outputs": [
    {
     "data": {
      "image/png": "[encoded data removed]",
      "text/plain": [
       "<Figure size 432x288 with 1 Axes>"
      ]
     },
     "metadata": {
      "needs_background": "light"
     },
     "output_type": "display_data"
    }
   ],
   "source": [
    "fig,ax = plt.subplots()\n",
    "ax.plot(S, 'b', label='Susceptible')\n",
    "ax.plot(I, 'r', label='Infected')\n",
    "ax.plot(R, 'g', label='Recovered')\n",
    "ax.legend();\n",
    "fig.show()"
   ]
  },
  {
   "cell_type": "code",
   "execution_count": 4,
   "id": "5998e1b7",
   "metadata": {},
   "outputs": [
    {
     "data": {
      "text/plain": [
       "(array([499.        , 498.82535   , 498.63772807, 498.43618746]),\n",
       " array([1.        , 1.07465   , 1.15480693, 1.24086685]),\n",
       " array([0.        , 0.1       , 0.207465  , 0.32294569]))"
      ]
     },
     "execution_count": 4,
     "metadata": {},
     "output_type": "execute_result"
    }
   ],
   "source": [
    "S, I, R"
   ]
  },
  {
   "cell_type": "code",
   "execution_count": null,
   "id": "14eed510",
   "metadata": {},
   "outputs": [],
   "source": [
    "import numpy as np\n",
    "import matplotlib.pyplot as plt\n",
    "\n",
    "# transmission rate (1/days)\n",
    "beta = 0.00035\n",
    "\n",
    "# recovery rate (1/days)\n",
    "gamma = 0.1\n",
    "\n",
    "# Population\n",
    "N = 500 \n",
    "\n",
    "# Number of days to simulate (starting at t=0)\n",
    "days = 3 + 1\n",
    "\n",
    "# Initial number of infected and recovered\n",
    "I, R = np.zeros(days), np.zeros(days)\n",
    "I[0], R[0] = 1, 0\n",
    "\n",
    "\n",
    "# Initial number of susceptible\n",
    "S = np.zeros(days)\n",
    "S[0] = N - I[0] - R[0]\n",
    "\n",
    "for t in range(days-1):\n",
    "    R[t+1] = R[t] + gamma * I[t]\n",
    "    I[t+1] = I[t] - gamma * I[t] + beta * I[t] * S[t]\n",
    "    S[t+1] = N - I[t+1] - R[t+1]\n",
    "\n",
    "fig,ax = plt.subplots()\n",
    "ax.plot(S, 'b', label='Susceptible')\n",
    "ax.plot(I, 'r', label='Infected')\n",
    "ax.plot(R, 'g', label='Recovered')\n",
    "ax.legend();\n",
    "fig.show()\n",
    "\n",
    "S, I, R"
   ]
  }
 ],
 "metadata": {
  "kernelspec": {
   "display_name": "Python 3 (ipykernel)",
   "language": "python",
   "name": "python3"
  },
  "language_info": {
   "codemirror_mode": {
    "name": "ipython",
    "version": 3
   },
   "file_extension": ".py",
   "mimetype": "text/x-python",
   "name": "python",
   "nbconvert_exporter": "python",
   "pygments_lexer": "ipython3",
   "version": "3.8.10"
  },
  "toc": {
   "base_numbering": 1,
   "nav_menu": {},
   "number_sections": false,
   "sideBar": true,
   "skip_h1_title": false,
   "title_cell": "Table of Contents",
   "title_sidebar": "Contents",
   "toc_cell": true,
   "toc_position": {},
   "toc_section_display": true,
   "toc_window_display": true
  }
 },
 "nbformat": 4,
 "nbformat_minor": 5
}
