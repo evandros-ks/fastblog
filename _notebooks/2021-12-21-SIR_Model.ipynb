{
 "cells": [
  {
   "cell_type": "markdown",
   "id": "f3e7d61c",
   "metadata": {},
   "source": [
    "# SIR Model of Infectious Diseases\n",
    "\n",
    "> An introduction to compartmental models in epidemiology and how to simulate disease dynamics in a population. \n",
    "- toc: true\n",
    "- comments: true\n",
    "- use_plotly: true"
   ]
  },
  {
   "cell_type": "markdown",
   "id": "105684f2",
   "metadata": {},
   "source": [
    "# Background"
   ]
  },
  {
   "cell_type": "markdown",
   "id": "19e03953",
   "metadata": {},
   "source": [
    "Epidemiological models are a type of compartmental model describing disease dynamics on a population. In the case of infectious diseases, we model how the virus/disease interacts with each compartment of the system. Each *compartment* in this model is represented as a homogeneous system - or an individual within a population where each individual is equivalent. Different epidemiological models consider different compartments with the most common being the SIR model. The compartments in this model are categorized within the population as:\n",
    "- **(S)**usceptible\n",
    "- **(I)**nfected\n",
    "- **(R)**ecovered \n"
   ]
  },
  {
   "cell_type": "markdown",
   "id": "18490736",
   "metadata": {},
   "source": [
    "# SIR Model"
   ]
  },
  {
   "cell_type": "code",
   "execution_count": 1,
   "id": "6a30524d",
   "metadata": {},
   "outputs": [],
   "source": [
    "import numpy as np\n",
    "import plotly.graph_objects as go\n",
    "import time\n",
    "from ipywidgets import interact, widgets"
   ]
  },
  {
   "cell_type": "code",
   "execution_count": 2,
   "id": "0f66812c",
   "metadata": {},
   "outputs": [
    {
     "data": {
      "application/vnd.jupyter.widget-view+json": {
       "model_id": "cfc62b06bba345d29318788dcfde77c0",
       "version_major": 2,
       "version_minor": 0
      },
      "text/plain": [
       "interactive(children=(FloatSlider(value=0.001, description='beta', max=0.1, min=0.001, readout_format='.4f', s…"
      ]
     },
     "metadata": {},
     "output_type": "display_data"
    },
    {
     "data": {
      "text/plain": [
       "<function __main__.update_params(**kwargs)>"
      ]
     },
     "execution_count": 2,
     "metadata": {},
     "output_type": "execute_result"
    }
   ],
   "source": [
    "def simulate(beta=0.001, infectious_period=21, N=100, days=365):\n",
    "    gamma = 1/infectious_period\n",
    "    \n",
    "    # Number of days to simulate (starting at t=0)\n",
    "    days = days + 1\n",
    "\n",
    "    # Initial number of infected and recovered\n",
    "    I, R = np.zeros(days), np.zeros(days)\n",
    "    I[0], R[0] = 1, 0\n",
    "\n",
    "    # Initial number of susceptible\n",
    "    S = np.zeros(days)\n",
    "    S[0] = N - I[0] - R[0]\n",
    "\n",
    "    for t in range(days-1):\n",
    "        R[t+1] = min(R[t] + gamma * I[t], N)\n",
    "        I[t+1] = min(I[t] - gamma * I[t] + beta * I[t] * S[t], N)\n",
    "        S[t+1] = max(N - I[t+1] - R[t+1], 0)\n",
    "    \n",
    "    return S, I, R, N\n",
    "\n",
    "def plot(S, I, R, N):   \n",
    "    fig = go.FigureWidget()\n",
    "    fig.add_trace(go.Scatter(y=S/N,\n",
    "                        mode='lines',\n",
    "                        name='Susceptible'))\n",
    "    fig.add_trace(go.Scatter(y=I/N,\n",
    "                        mode='lines',\n",
    "                        name='Infected'))\n",
    "    fig.add_trace(go.Scatter(y=R/N,\n",
    "                        mode='lines',\n",
    "                        name='Recoverd'))\n",
    "    \n",
    "    return fig\n",
    "\n",
    "S, I, R, N = simulate()\n",
    "fig = plot(S, I, R, N)\n",
    "\n",
    "\n",
    "def update_params(**kwargs):\n",
    "    S, I, R, N = simulate(**kwargs)\n",
    "    fig.data[0].y = S/N\n",
    "    fig.data[1].y = I/N\n",
    "    fig.data[2].y = R/N\n",
    "    time.sleep(1/2)\n",
    "    fig.show()\n",
    "\n",
    "interact(update_params, beta = widgets.FloatSlider(value=0.001, min=1/1_000, max=1/10, step=0.0001, readout_format='.4f'), \n",
    "                        infectious_period = widgets.FloatSlider(value=21, min=1, max=100, step=1),\n",
    "                        N = widgets.IntSlider(value=100, min=0, max=10_000, step=1),\n",
    "                        days = widgets.IntSlider(value=365, min=0, max=365*2, step=1))"
   ]
  },
  {
   "cell_type": "code",
   "execution_count": null,
   "id": "f6aa9bcc",
   "metadata": {},
   "outputs": [],
   "source": []
  },
  {
   "cell_type": "code",
   "execution_count": null,
   "id": "09061ff2",
   "metadata": {},
   "outputs": [],
   "source": []
  }
 ],
 "metadata": {
  "kernelspec": {
   "display_name": "Python 3 (ipykernel)",
   "language": "python",
   "name": "python3"
  },
  "language_info": {
   "codemirror_mode": {
    "name": "ipython",
    "version": 3
   },
   "file_extension": ".py",
   "mimetype": "text/x-python",
   "name": "python",
   "nbconvert_exporter": "python",
   "pygments_lexer": "ipython3",
   "version": "3.8.10"
  },
  "toc": {
   "base_numbering": 1,
   "nav_menu": {},
   "number_sections": false,
   "sideBar": true,
   "skip_h1_title": false,
   "title_cell": "Table of Contents",
   "title_sidebar": "Contents",
   "toc_cell": true,
   "toc_position": {},
   "toc_section_display": true,
   "toc_window_display": true
  }
 },
 "nbformat": 4,
 "nbformat_minor": 5
}
