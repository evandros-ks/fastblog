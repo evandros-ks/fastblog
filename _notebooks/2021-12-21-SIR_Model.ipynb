{
 "cells": [
  {
   "cell_type": "markdown",
   "id": "c7831a80",
   "metadata": {
    "toc": true
   },
   "source": [
    "<h1>Table of Contents<span class=\"tocSkip\"></span></h1>\n",
    "<div class=\"toc\"><ul class=\"toc-item\"><li><span><a href=\"#SIR-Model-of-Infectious-Diseases\" data-toc-modified-id=\"SIR-Model-of-Infectious-Diseases-1\">SIR Model of Infectious Diseases</a></span></li></ul></div>"
   ]
  },
  {
   "cell_type": "markdown",
   "id": "a26d6687",
   "metadata": {},
   "source": [
    "# SIR Model of Infectious Diseases"
   ]
  },
  {
   "cell_type": "code",
   "execution_count": null,
   "id": "aa37a0e3",
   "metadata": {},
   "outputs": [],
   "source": []
  }
 ],
 "metadata": {
  "kernelspec": {
   "display_name": "Python 3 (ipykernel)",
   "language": "python",
   "name": "python3"
  },
  "language_info": {
   "codemirror_mode": {
    "name": "ipython",
    "version": 3
   },
   "file_extension": ".py",
   "mimetype": "text/x-python",
   "name": "python",
   "nbconvert_exporter": "python",
   "pygments_lexer": "ipython3",
   "version": "3.8.10"
  },
  "toc": {
   "base_numbering": 1,
   "nav_menu": {},
   "number_sections": false,
   "sideBar": true,
   "skip_h1_title": false,
   "title_cell": "Table of Contents",
   "title_sidebar": "Contents",
   "toc_cell": true,
   "toc_position": {},
   "toc_section_display": true,
   "toc_window_display": true
  }
 },
 "nbformat": 4,
 "nbformat_minor": 5
}
