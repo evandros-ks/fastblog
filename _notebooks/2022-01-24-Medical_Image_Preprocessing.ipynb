{
 "cells": [
  {
   "cell_type": "markdown",
   "id": "cf88a90e",
   "metadata": {},
   "source": [
    "# Medical Imaging Preprocessing\n",
    "\n",
    "> A walk-through tutorial how to process, manipulate, and save medical images. \n",
    "- toc: true\n",
    "- use_math: true\n",
    "- comments: true\n",
    "- use_plotly: true"
   ]
  },
  {
   "cell_type": "markdown",
   "id": "523b899f",
   "metadata": {},
   "source": [
    "- read dicom\n",
    "- metadata\n",
    "- resampling\n",
    "- segmentation (by HU)"
   ]
  },
  {
   "cell_type": "markdown",
   "id": "b1f8589d",
   "metadata": {},
   "source": [
    "# Background"
   ]
  },
  {
   "cell_type": "markdown",
   "id": "8ef56b28",
   "metadata": {},
   "source": [
    "In this tutorial, we will review how to process, handle, and save DICOM data. A great resource to access medical imaging data is through the [Cancer Imaging Archive](https://www.cancerimagingarchive.net/collections/). They maintain an archive of medical images across various datasets that are accessible for public download. We will be using scans from the [LIDC-IDRI](https://doi.org/10.7937/K9/TCIA.2015.LO9QL9SX) dataset which contains diagnostic and lung cancer screening thoracic computed tomography scans with annotated lesions in XML format. To handle the annotated lessions, researchers have developed the [pylidc](https://pylidc.github.io/tuts/scan.html) for processing the XML files. "
   ]
  },
  {
   "cell_type": "code",
   "execution_count": 1,
   "id": "bfaa4d37",
   "metadata": {},
   "outputs": [],
   "source": [
    "#hide\n",
    "import glob\n",
    "import matplotlib.pyplot as plt\n",
    "import numpy as np\n",
    "import os\n",
    "import pydicom\n",
    "\n",
    "from pathlib import Path"
   ]
  },
  {
   "cell_type": "code",
   "execution_count": 2,
   "id": "6406be13",
   "metadata": {},
   "outputs": [
    {
     "name": "stdout",
     "output_type": "stream",
     "text": [
      ".ipynb_checkpoints\n"
     ]
    },
    {
     "data": {
      "text/plain": [
       "['LIDC-IDRI-0001',\n",
       " 'LIDC-IDRI-0002',\n",
       " 'LIDC-IDRI-0003',\n",
       " 'LIDC-IDRI-0004',\n",
       " 'LIDC-IDRI-0005',\n",
       " 'LIDC-IDRI-0006',\n",
       " 'LIDC-IDRI-0007',\n",
       " 'LIDC-IDRI-0008',\n",
       " 'LIDC-IDRI-0009',\n",
       " 'LIDC-IDRI-0010',\n",
       " 'LIDC-IDRI-0011']"
      ]
     },
     "execution_count": 2,
     "metadata": {},
     "output_type": "execute_result"
    }
   ],
   "source": [
    "#hide\n",
    "PATH = 'data/LIDC-IDRI/'\n",
    "\n",
    "patients = os.listdir(PATH)\n",
    "patients.sort()\n",
    "print(patients.pop(0))\n",
    "patients"
   ]
  },
  {
   "cell_type": "code",
   "execution_count": 3,
   "id": "bcd577f2",
   "metadata": {},
   "outputs": [
    {
     "data": {
      "text/plain": [
       "['data/LIDC-IDRI//LIDC-IDRI-0001/01-01-2000-NA-NA-30178/',\n",
       " 'data/LIDC-IDRI//LIDC-IDRI-0002/01-01-2000-NA-NA-98329/',\n",
       " 'data/LIDC-IDRI//LIDC-IDRI-0003/01-01-2000-NA-NA-94866/',\n",
       " 'data/LIDC-IDRI//LIDC-IDRI-0004/01-01-2000-NA-NA-91780/',\n",
       " 'data/LIDC-IDRI//LIDC-IDRI-0005/01-01-2000-NA-NA-42125/',\n",
       " 'data/LIDC-IDRI//LIDC-IDRI-0006/01-01-2000-NA-NA-92500/',\n",
       " 'data/LIDC-IDRI//LIDC-IDRI-0007/01-01-2000-NA-NA-81781/',\n",
       " 'data/LIDC-IDRI//LIDC-IDRI-0008/01-01-2000-NA-NA-30141/',\n",
       " 'data/LIDC-IDRI//LIDC-IDRI-0009/01-01-2000-NA-NA-07045/',\n",
       " 'data/LIDC-IDRI//LIDC-IDRI-0010/01-01-2000-NA-NA-43375/',\n",
       " 'data/LIDC-IDRI//LIDC-IDRI-0011/01-01-2000-NA-NA-73568/']"
      ]
     },
     "execution_count": 3,
     "metadata": {},
     "output_type": "execute_result"
    }
   ],
   "source": [
    "#hide\n",
    "# not all patient sub-folders contain CT scan, sometimes they're RTSTRUCTs \n",
    "\n",
    "patient_path = []\n",
    "for p in patients:\n",
    "    patient_directory = glob.glob(f\"{PATH}/{p}/**/\")\n",
    "    for mod in patient_directory:\n",
    "        mod_files = glob.glob(f\"{mod}/**/**\")\n",
    "        if len(mod_files) > 10: patient_path.append(mod)\n",
    "patient_path"
   ]
  },
  {
   "cell_type": "code",
   "execution_count": 4,
   "id": "2e9d65f6",
   "metadata": {},
   "outputs": [],
   "source": [
    "def load_scan(path):\n",
    "    slices = [pydicom.read_file(f\"{s}\") for s in glob.glob(f\"{path}/**/*.dcm\")]\n",
    "    # sort slices vertically - bottom up\n",
    "    slices.sort(key = lambda x: float(x.ImagePositionPatient[2]))\n",
    "    return slices"
   ]
  },
  {
   "cell_type": "code",
   "execution_count": 5,
   "id": "ca620e80",
   "metadata": {},
   "outputs": [
    {
     "data": {
      "text/plain": [
       "Dataset.file_meta -------------------------------\n",
       "(0002, 0000) File Meta Information Group Length  UL: 206\n",
       "(0002, 0001) File Meta Information Version       OB: b'\\x00\\x01'\n",
       "(0002, 0002) Media Storage SOP Class UID         UI: CT Image Storage\n",
       "(0002, 0003) Media Storage SOP Instance UID      UI: 1.3.6.1.4.1.14519.5.2.1.6279.6001.227129408140157230270926028555\n",
       "(0002, 0010) Transfer Syntax UID                 UI: Explicit VR Little Endian\n",
       "(0002, 0012) Implementation Class UID            UI: 1.3.6.1.4.1.22213.1.143\n",
       "(0002, 0013) Implementation Version Name         SH: '0.5'\n",
       "(0002, 0016) Source Application Entity Title     AE: 'POSDA'\n",
       "-------------------------------------------------\n",
       "(0008, 0005) Specific Character Set              CS: 'ISO_IR 100'\n",
       "(0008, 0008) Image Type                          CS: ['ORIGINAL', 'PRIMARY', 'AXIAL']\n",
       "(0008, 0016) SOP Class UID                       UI: CT Image Storage\n",
       "(0008, 0018) SOP Instance UID                    UI: 1.3.6.1.4.1.14519.5.2.1.6279.6001.227129408140157230270926028555\n",
       "(0008, 0020) Study Date                          DA: '20000101'\n",
       "(0008, 0021) Series Date                         DA: '20000101'\n",
       "(0008, 0022) Acquisition Date                    DA: '20000101'\n",
       "(0008, 0023) Content Date                        DA: '20000101'\n",
       "(0008, 0024) Overlay Date                        DA: '20000101'\n",
       "(0008, 0025) Curve Date                          DA: '20000101'\n",
       "(0008, 002a) Acquisition DateTime                DT: '20000101'\n",
       "(0008, 0030) Study Time                          TM: ''\n",
       "(0008, 0032) Acquisition Time                    TM: ''\n",
       "(0008, 0033) Content Time                        TM: ''\n",
       "(0008, 0050) Accession Number                    SH: ''\n",
       "(0008, 0060) Modality                            CS: 'CT'\n",
       "(0008, 0070) Manufacturer                        LO: 'GE MEDICAL SYSTEMS'\n",
       "(0008, 0090) Referring Physician's Name          PN: ''\n",
       "(0008, 1090) Manufacturer's Model Name           LO: 'LightSpeed Plus'\n",
       "(0008, 1155) Referenced SOP Instance UID         UI: 1.3.6.1.4.1.14519.5.2.1.6279.6001.193169285341929509646569344451\n",
       "(0010, 0010) Patient's Name                      PN: ''\n",
       "(0010, 0020) Patient ID                          LO: 'LIDC-IDRI-0001'\n",
       "(0010, 0030) Patient's Birth Date                DA: ''\n",
       "(0010, 0040) Patient's Sex                       CS: ''\n",
       "(0010, 1010) Patient's Age                       AS: ''\n",
       "(0010, 21d0) Last Menstrual Date                 DA: '20000101'\n",
       "(0012, 0062) Patient Identity Removed            CS: 'YES'\n",
       "(0012, 0063) De-identification Method            LO: 'DCM:113100/113105/113107/113108/113109/113111'\n",
       "(0013, 0010) Private Creator                     LO: 'CTP'\n",
       "(0013, 1010) Private tag data                    LO: 'LIDC-IDRI'\n",
       "(0013, 1013) Private tag data                    LO: '62796001'\n",
       "(0018, 0010) Contrast/Bolus Agent                LO: 'IV'\n",
       "(0018, 0015) Body Part Examined                  CS: 'CHEST'\n",
       "(0018, 0022) Scan Options                        CS: 'HELICAL MODE'\n",
       "(0018, 0050) Slice Thickness                     DS: '2.5'\n",
       "(0018, 0060) KVP                                 DS: '120.0'\n",
       "(0018, 0090) Data Collection Diameter            DS: '500.0'\n",
       "(0018, 1020) Software Versions                   LO: 'LightSpeedApps2.4.2_H2.4M5'\n",
       "(0018, 1100) Reconstruction Diameter             DS: '360.0'\n",
       "(0018, 1110) Distance Source to Detector         DS: '949.075012'\n",
       "(0018, 1111) Distance Source to Patient          DS: '541.0'\n",
       "(0018, 1120) Gantry/Detector Tilt                DS: '0.0'\n",
       "(0018, 1130) Table Height                        DS: '144.399994'\n",
       "(0018, 1140) Rotation Direction                  CS: 'CW'\n",
       "(0018, 1150) Exposure Time                       IS: '570'\n",
       "(0018, 1151) X-Ray Tube Current                  IS: '400'\n",
       "(0018, 1152) Exposure                            IS: '4684'\n",
       "(0018, 1160) Filter Type                         SH: 'BODY FILTER'\n",
       "(0018, 1170) Generator Power                     IS: '48000'\n",
       "(0018, 1190) Focal Spot(s)                       DS: '1.2'\n",
       "(0018, 1210) Convolution Kernel                  SH: 'STANDARD'\n",
       "(0018, 5100) Patient Position                    CS: 'FFS'\n",
       "(0020, 000d) Study Instance UID                  UI: 1.3.6.1.4.1.14519.5.2.1.6279.6001.298806137288633453246975630178\n",
       "(0020, 000e) Series Instance UID                 UI: 1.3.6.1.4.1.14519.5.2.1.6279.6001.179049373636438705059720603192\n",
       "(0020, 0010) Study ID                            SH: ''\n",
       "(0020, 0011) Series Number                       IS: '3000566'\n",
       "(0020, 0013) Instance Number                     IS: '133'\n",
       "(0020, 0032) Image Position (Patient)            DS: [-166.000000, -171.699997, -340.000000]\n",
       "(0020, 0037) Image Orientation (Patient)         DS: [1.000000, 0.000000, 0.000000, 0.000000, 1.000000, 0.000000]\n",
       "(0020, 0052) Frame of Reference UID              UI: 1.3.6.1.4.1.14519.5.2.1.6279.6001.229925374658226729607867499499\n",
       "(0020, 1040) Position Reference Indicator        LO: 'SN'\n",
       "(0020, 1041) Slice Location                      DS: '-340.0'\n",
       "(0028, 0002) Samples per Pixel                   US: 1\n",
       "(0028, 0004) Photometric Interpretation          CS: 'MONOCHROME2'\n",
       "(0028, 0010) Rows                                US: 512\n",
       "(0028, 0011) Columns                             US: 512\n",
       "(0028, 0030) Pixel Spacing                       DS: [0.703125, 0.703125]\n",
       "(0028, 0100) Bits Allocated                      US: 16\n",
       "(0028, 0101) Bits Stored                         US: 16\n",
       "(0028, 0102) High Bit                            US: 15\n",
       "(0028, 0103) Pixel Representation                US: 1\n",
       "(0028, 0120) Pixel Padding Value                 US: 63536\n",
       "(0028, 0303) Longitudinal Temporal Information M CS: 'MODIFIED'\n",
       "(0028, 1050) Window Center                       DS: '-600.0'\n",
       "(0028, 1051) Window Width                        DS: '1600.0'\n",
       "(0028, 1052) Rescale Intercept                   DS: '-1024.0'\n",
       "(0028, 1053) Rescale Slope                       DS: '1.0'\n",
       "(0038, 0020) Admitting Date                      DA: '20000101'\n",
       "(0040, 0002) Scheduled Procedure Step Start Date DA: '20000101'\n",
       "(0040, 0004) Scheduled Procedure Step End Date   DA: '20000101'\n",
       "(0040, 0244) Performed Procedure Step Start Date DA: '20000101'\n",
       "(0040, 2016) Placer Order Number / Imaging Servi LO: ''\n",
       "(0040, 2017) Filler Order Number / Imaging Servi LO: ''\n",
       "(0040, a075) Verifying Observer Name             PN: 'Removed by CTP'\n",
       "(0040, a123) Person Name                         PN: 'Removed by CTP'\n",
       "(0040, a124) UID                                 UI: 1.3.6.1.4.1.14519.5.2.1.6279.6001.100234298781151956647018195355\n",
       "(0070, 0084) Content Creator's Name              PN: ''\n",
       "(0088, 0140) Storage Media File-set UID          UI: 1.3.6.1.4.1.14519.5.2.1.6279.6001.170358989903228376741835490753\n",
       "(7fe0, 0010) Pixel Data                          OW: Array of 524288 elements"
      ]
     },
     "execution_count": 5,
     "metadata": {},
     "output_type": "execute_result"
    }
   ],
   "source": [
    "scan = load_scan(patient_path[0])\n",
    "scan[0]"
   ]
  },
  {
   "cell_type": "markdown",
   "id": "e117ad32",
   "metadata": {},
   "source": [
    "Digital Imaging and Communications in Medicine or DICOM is a standardized file format for medical imaging information and related data. Typically, you will see the raw medical images stored in this format and later processed to an easier to handle format such as [NIfTI](https://radiopaedia.org/articles/nifti-file-format#:~:text=NIfTI%20is%20a%20type%20of,neuroscience%20and%20even%20neuroradiology%20research.) or [Nrrd](http://teem.sourceforge.net/nrrd/format.html). To process our DICOM files, we are using the ```pydicom``` library and have constructed and read a list of ```pydicom.dataset.FileDataset``` objects with our ```scan``` list. This object allows to access any relevant data elements stored in the DICOM file, useful data elements include ```Modality, RescaleIntercept, RescaleSlope, PixelSpacing, SliceThickness,``` and ```ImagePositionPatient```. We'll need these data elements to standardize our scans to the same pixel spacing and covert our pixel values to the Hounsfield scale. It could also be helpful to use these data elements and construct an array of metadata elements to use for training. This is particularly useful in case you want to identify any subtleties between CT manufacturers. The [DICOM library](https://www.dicomlibrary.com/dicom/dicom-tags/) has an exhaustive list of all the data elements and there use. You will also notice the following standardized format for DICOM data elements:\n",
    "- a tag that identifies the attribute, usually in the format (XXXX,XXXX) with hexadecimal numbers, and may be divided further into DICOM Group Number and DICOM Element Number;\n",
    "- a DICOM Value Representation (VR) that describes the data type and format of the attribute value."
   ]
  },
  {
   "cell_type": "code",
   "execution_count": 13,
   "id": "971b7dc9",
   "metadata": {},
   "outputs": [],
   "source": [
    "# ??pydicom.dataset.FileDataset"
   ]
  },
  {
   "cell_type": "code",
   "execution_count": 6,
   "id": "34dfe8a3",
   "metadata": {},
   "outputs": [
    {
     "data": {
      "text/plain": [
       "pydicom.dataset.FileDataset"
      ]
     },
     "execution_count": 6,
     "metadata": {},
     "output_type": "execute_result"
    }
   ],
   "source": [
    "type(scan[0])"
   ]
  },
  {
   "cell_type": "code",
   "execution_count": 7,
   "id": "d7f51482",
   "metadata": {},
   "outputs": [],
   "source": [
    "def get_pixels_hu(slices):\n",
    "    image = np.stack([s.pixel_array for s in slices])\n",
    "    # Convert to int16 (from sometimes int16), \n",
    "    # should be possible as values should always be low enough (<32k)\n",
    "    image = image.astype(np.int16)\n",
    "\n",
    "    # Set outside-of-scan pixels to 0\n",
    "    # The intercept is usually -1024, so air is approximately 0\n",
    "    image[image == -2000] = 0\n",
    "    \n",
    "    # Convert to Hounsfield units (HU)\n",
    "    for slice_number in range(len(slices)):\n",
    "        \n",
    "        intercept = slices[slice_number].RescaleIntercept\n",
    "        slope = slices[slice_number].RescaleSlope\n",
    "        \n",
    "        if slope != 1:\n",
    "            image[slice_number] = slope * image[slice_number].astype(np.float64)\n",
    "            image[slice_number] = image[slice_number].astype(np.int16)\n",
    "            \n",
    "        image[slice_number] += np.int16(intercept)\n",
    "    \n",
    "    return np.array(image, dtype=np.int16)"
   ]
  },
  {
   "cell_type": "code",
   "execution_count": 8,
   "id": "13d9235c",
   "metadata": {},
   "outputs": [
    {
     "data": {
      "text/plain": [
       "(133, 512, 512)"
      ]
     },
     "execution_count": 8,
     "metadata": {},
     "output_type": "execute_result"
    }
   ],
   "source": [
    "scan_data = get_pixels_hu(scan)\n",
    "scan_data.shape"
   ]
  },
  {
   "cell_type": "code",
   "execution_count": 10,
   "id": "1cf84d60",
   "metadata": {},
   "outputs": [
    {
     "data": {
      "text/plain": [
       "<matplotlib.image.AxesImage at 0x7f32ff786760>"
      ]
     },
     "execution_count": 10,
     "metadata": {},
     "output_type": "execute_result"
    },
    {
     "data": {
      "image/png": "[encoded data removed]",
      "text/plain": [
       "<Figure size 432x288 with 1 Axes>"
      ]
     },
     "metadata": {
      "needs_background": "light"
     },
     "output_type": "display_data"
    }
   ],
   "source": [
    "plt.imshow(scan_data[120,...], cmap=plt.cm.gray)"
   ]
  },
  {
   "cell_type": "code",
   "execution_count": null,
   "id": "2be568c6",
   "metadata": {},
   "outputs": [],
   "source": []
  }
 ],
 "metadata": {
  "kernelspec": {
   "display_name": "Python 3 (ipykernel)",
   "language": "python",
   "name": "python3"
  },
  "language_info": {
   "codemirror_mode": {
    "name": "ipython",
    "version": 3
   },
   "file_extension": ".py",
   "mimetype": "text/x-python",
   "name": "python",
   "nbconvert_exporter": "python",
   "pygments_lexer": "ipython3",
   "version": "3.8.10"
  }
 },
 "nbformat": 4,
 "nbformat_minor": 5
}
